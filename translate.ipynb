{
 "cells": [
  {
   "cell_type": "code",
   "execution_count": 16,
   "metadata": {},
   "outputs": [],
   "source": [
    "import os\n",
    "import requests\n",
    "import json\n",
    "\n",
    "class api:\n",
    "    api_url = \"https://translate.googleapis.com/translate_a/\"\n",
    "    client = \"?client=gtx&\"\n",
    "    dt = \"&dt=t&\"\n",
    "\n",
    "\n",
    "    @staticmethod\n",
    "    def translate(text, target_lang='rw'):\n",
    "        #sl = f\"&sl={source_lang}\"\n",
    "        tl = f\"&tl={target_lang}\"\n",
    "        # translator = str.maketrans('','', string.punctuation)\n",
    "        # text = text.translate(translator)\n",
    "\n",
    "        r = requests.get(f\"{api.api_url}single{api.client}{api.dt}{tl}&q='{text}'\")\n",
    "        if r.status_code == 200:\n",
    "            response_data = json.loads(r.text)\n",
    "            print(text, response_data)\n",
    "            if response_data[0]:\n",
    "                return response_data[0][0][0]\n",
    "        return r"
   ]
  },
  {
   "cell_type": "code",
   "execution_count": 18,
   "metadata": {},
   "outputs": [],
   "source": [
    "b = api.translate(\"Hello world\", \"rw\")"
   ]
  },
  {
   "cell_type": "code",
   "execution_count": 20,
   "metadata": {},
   "outputs": [
    {
     "data": {
      "text/plain": [
       "400"
      ]
     },
     "execution_count": 20,
     "metadata": {},
     "output_type": "execute_result"
    }
   ],
   "source": [
    "b.status_code"
   ]
  },
  {
   "cell_type": "code",
   "execution_count": 9,
   "metadata": {},
   "outputs": [],
   "source": [
    "#loop through the files int the textfile/CROPPED folder and trnaslate them\n",
    "\n",
    "def translate_files():\n",
    "    for filename in os.listdir('textfile/CROPPED'):\n",
    "        if filename.endswith(\".txt\"):\n",
    "            print(filename)\n",
    "            with open(f\"textfile/CROPPED/{filename}\", 'r') as f:\n",
    "                text = f.readlines()\n",
    "                translations = []\n",
    "                for lines in text:\n",
    "                    translation = api.translate(text)\n",
    "                    translations.append(translation)\n",
    "                if translation:\n",
    "                with open(f\"textfile/translated/{filename}\", 'w+') as f:\n",
    "                    f.write(translation)\n",
    "                    print(f\"Translated {filename} to {translation}\")"
   ]
  },
  {
   "cell_type": "code",
   "execution_count": 11,
   "metadata": {},
   "outputs": [
    {
     "name": "stdout",
     "output_type": "stream",
     "text": [
      "4.9.2._Money_laundering_and_financing_Terrorism_Law_n___75-2019_of_2020.txt\n",
      "4.3.1._Abolition_of_death_penalty_OL_n___31_of_2007.txt\n",
      "4.8.3_Other_particular_means_for_supporting_the_victim_of_trafficking_in_persons__MO_No_13_of_2021.txt\n",
      "4.5.2._Cyber_security_authority_Law_n___26_of_2017.txt\n",
      "4.7.1._Genocide_Ideology__Law_n___59_of_2018.txt\n",
      "4.6.1._Gender-Based_Violence__GBV__Law_n___59_of__2008.txt\n",
      "4.1.1.__Offences_and_penalties_in_general_Law_n___68_of__2018.txt\n",
      "4.4.1._Fighting_against_Corruption_Law_n___54_of_2018.txt\n",
      "4.3.2._Abolition_of_death_penalty_OL_n___05_of__2009_amendment.txt\n",
      "4.8.2_Organ_responsible_for_providing_necessary_means_for_repatriation_of_the_victim_of_crime_of_trafficking_in_persons_PMO_no_19_of_2021.txt\n",
      "4.9.2._Counter-terrorism_Law_no_39_of__2021_amend.txt\n",
      "4.1.4._Abortion_conditions_MO_n___002-MoH_of_2019.txt\n",
      "4.9.3._Money_laundering_and_financing_terrorism_Law_no_38_of_2021_amend.txt\n",
      "4.6.2._Prevention_and_response_to_GBV_PMO_n___001-03_of_2012.txt\n",
      "4.9.1._Counter_terrorism__Law__n___46_of_2018.txt\n",
      "4.1.2.__Offences_and_penalties_in_general_Law__n___69_of_2019_amendement.txt\n",
      "4.2.1._Extradition___Law_n___69_of_2013.txt\n",
      "4.5.1._Prevention_and_punishment_of_cyber_crime_Law__n___60_of__2018.txt\n",
      "4.1.3._Restriction_of_movement_MO_n___005-08.11_of_2014.txt\n",
      "4.5.3._Cyber_security_BNR_Regul._n___02-2018_of__2018.txt\n",
      "4.8.1._Human_Trafficking_and_exploitation_of_others_Law_n___51_of_2018.txt\n"
     ]
    }
   ],
   "source": [
    "for filename in os.listdir('textfile/CROPPED'):\n",
    "    print(filename)"
   ]
  },
  {
   "cell_type": "code",
   "execution_count": null,
   "metadata": {},
   "outputs": [],
   "source": [
    "with open(f\"textfile/CROPPED/{filename}\", 'r') as f:\n",
    "                text = f.readlines()"
   ]
  }
 ],
 "metadata": {
  "kernelspec": {
   "display_name": "law_farm",
   "language": "python",
   "name": "python3"
  },
  "language_info": {
   "codemirror_mode": {
    "name": "ipython",
    "version": 3
   },
   "file_extension": ".py",
   "mimetype": "text/x-python",
   "name": "python",
   "nbconvert_exporter": "python",
   "pygments_lexer": "ipython3",
   "version": "3.11.3"
  },
  "orig_nbformat": 4
 },
 "nbformat": 4,
 "nbformat_minor": 2
}
