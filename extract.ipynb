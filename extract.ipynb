{
 "cells": [
  {
   "cell_type": "code",
   "execution_count": 40,
   "metadata": {},
   "outputs": [],
   "source": [
    "#a function to search all the files in nested folders\n",
    "import os\n",
    "\n",
    "def search_files(root_folder, file_extension):\n",
    "    match = {}\n",
    "\n",
    "    for root, dirs, files in os.walk(root_folder):\n",
    "        for file in files:\n",
    "            if file.endswith(file_extension):\n",
    "                file_path = os.path.join(root, file)\n",
    "                match[file] = file_path\n",
    "\n",
    "    return match\n",
    "\n"
   ]
  },
  {
   "cell_type": "code",
   "execution_count": 41,
   "metadata": {},
   "outputs": [],
   "source": [
    "files = search_files('criminal', '.pdf')"
   ]
  },
  {
   "cell_type": "code",
   "execution_count": 42,
   "metadata": {},
   "outputs": [
    {
     "data": {
      "text/plain": [
       "{'4.1.4._Abortion_conditions_MO_n___002-MoH_of_2019.pdf': 'criminal/Offense and penalities in General/4.1.4._Abortion_conditions_MO_n___002-MoH_of_2019.pdf',\n",
       " '4.1.1.__Offences_and_penalties_in_general_Law_n___68_of__2018.pdf': 'criminal/Offense and penalities in General/4.1.1.__Offences_and_penalties_in_general_Law_n___68_of__2018.pdf',\n",
       " '4.1.3._Restriction_of_movement_MO_n___005-08.11_of_2014.pdf': 'criminal/Offense and penalities in General/4.1.3._Restriction_of_movement_MO_n___005-08.11_of_2014.pdf',\n",
       " '4.1.2.__Offences_and_penalties_in_general_Law__n___69_of_2019_amendement.pdf': 'criminal/Offense and penalities in General/4.1.2.__Offences_and_penalties_in_general_Law__n___69_of_2019_amendement.pdf',\n",
       " '4.7.1._Genocide_Ideology__Law_n___59_of_2018.pdf': 'criminal/Genocide Ideology/4.7.1._Genocide_Ideology__Law_n___59_of_2018.pdf',\n",
       " '4.10.1._Whistle_Blowers_Protection_Law_n___44bis_of_2017.pdf': 'criminal/Whitle Blowers/4.10.1._Whistle_Blowers_Protection_Law_n___44bis_of_2017.pdf',\n",
       " '4.2.1._Extradition___Law_n___69_of_2013.pdf': 'criminal/Extradition/4.2.1._Extradition___Law_n___69_of_2013.pdf',\n",
       " '4.8.2_Organ_responsible_for_providing_necessary_means_for_repatriation_of_the_victim_of_crime_of_trafficking_in_persons_PMO_no_19_of_2021.pdf': 'criminal/Human Trafficking/4.8.2_Organ_responsible_for_providing_necessary_means_for_repatriation_of_the_victim_of_crime_of_trafficking_in_persons_PMO_no_19_of_2021.pdf',\n",
       " '4.8.3_Other_particular_means_for_supporting_the_victim_of_trafficking_in_persons__MO_No_13_of_2021.pdf': 'criminal/Human Trafficking/4.8.3_Other_particular_means_for_supporting_the_victim_of_trafficking_in_persons__MO_No_13_of_2021.pdf',\n",
       " '4.8.1._Human_Trafficking_and_exploitation_of_others_Law_n___51_of_2018.pdf': 'criminal/Human Trafficking/4.8.1._Human_Trafficking_and_exploitation_of_others_Law_n___51_of_2018.pdf',\n",
       " '4.5.2._Cyber_security_authority_Law_n___26_of_2017.pdf': 'criminal/Cyber crimes/4.5.2._Cyber_security_authority_Law_n___26_of_2017.pdf',\n",
       " '4.5.1._Prevention_and_punishment_of_cyber_crime_Law__n___60_of__2018.pdf': 'criminal/Cyber crimes/4.5.1._Prevention_and_punishment_of_cyber_crime_Law__n___60_of__2018.pdf',\n",
       " '4.5.3._Cyber_security_BNR_Regul._n___02-2018_of__2018.pdf': 'criminal/Cyber crimes/4.5.3._Cyber_security_BNR_Regul._n___02-2018_of__2018.pdf',\n",
       " '4.6.2._Prevention_and_response_to_GBV_PMO_n___001-03_of_2012.pdf': 'criminal/Gender Based Violence/4.6.2._Prevention_and_response_to_GBV_PMO_n___001-03_of_2012.pdf',\n",
       " '4.6.1._Gender-Based_Violence__GBV__Law_n___59_of__2008.pdf': 'criminal/Gender Based Violence/4.6.1._Gender-Based_Violence__GBV__Law_n___59_of__2008.pdf',\n",
       " '4.11.1_Protection_of_personal_data_and_privacy__Law_no_58_of_2021.pdf': 'criminal/Data protection/4.11.1_Protection_of_personal_data_and_privacy__Law_no_58_of_2021.pdf',\n",
       " '4.4.1._Fighting_against_Corruption_Law_n___54_of_2018.pdf': 'criminal/Corruption/4.4.1._Fighting_against_Corruption_Law_n___54_of_2018.pdf',\n",
       " '4.9.3._Money_laundering_and_financing_terrorism_Law_no_38_of_2021_amend.pdf': 'criminal/Terrorism and money laundering/4.9.3._Money_laundering_and_financing_terrorism_Law_no_38_of_2021_amend.pdf',\n",
       " '4.9.6._Declaration_of_cross_border_cash__Reg_no_2_of_2021.pdf': 'criminal/Terrorism and money laundering/4.9.6._Declaration_of_cross_border_cash__Reg_no_2_of_2021.pdf',\n",
       " '4.9.1._Counter_terrorism__Law__n___46_of_2018.pdf': 'criminal/Terrorism and money laundering/4.9.1._Counter_terrorism__Law__n___46_of_2018.pdf',\n",
       " '4.9.2._Counter-terrorism_Law_no_39_of__2021_amend.pdf': 'criminal/Terrorism and money laundering/4.9.2._Counter-terrorism_Law_no_39_of__2021_amend.pdf',\n",
       " '4.9.4._Suspension_of_a_terrorist_organisation__MO_n___004-Mininter-11_of_2011.pdf': 'criminal/Terrorism and money laundering/4.9.4._Suspension_of_a_terrorist_organisation__MO_n___004-Mininter-11_of_2011.pdf',\n",
       " '4.9.2._Money_laundering_and_financing_Terrorism_Law_n___75-2019_of_2020.pdf': 'criminal/Terrorism and money laundering/4.9.2._Money_laundering_and_financing_Terrorism_Law_n___75-2019_of_2020.pdf',\n",
       " '4.9.5._National_Counter_Terrorism_Committee__PMO_No_18_of_2021.pdf': 'criminal/Terrorism and money laundering/4.9.5._National_Counter_Terrorism_Committee__PMO_No_18_of_2021.pdf',\n",
       " '4.9.7._Coordination_Council_responsible_for_preventing_and_fighting_money_laundering__PO_No_100_of_2021.pdf': 'criminal/Terrorism and money laundering/4.9.7._Coordination_Council_responsible_for_preventing_and_fighting_money_laundering__PO_No_100_of_2021.pdf',\n",
       " '4.9.8._Anti-money_laundering__Reg_no_001_of_2022.pdf': 'criminal/Terrorism and money laundering/4.9.8._Anti-money_laundering__Reg_no_001_of_2022.pdf',\n",
       " '4.3.2._Abolition_of_death_penalty_OL_n___05_of__2009_amendment.pdf': 'criminal/Abolition of death Penalty/4.3.2._Abolition_of_death_penalty_OL_n___05_of__2009_amendment.pdf',\n",
       " '4.3.1._Abolition_of_death_penalty_OL_n___31_of_2007.pdf': 'criminal/Abolition of death Penalty/4.3.1._Abolition_of_death_penalty_OL_n___31_of_2007.pdf'}"
      ]
     },
     "execution_count": 42,
     "metadata": {},
     "output_type": "execute_result"
    }
   ],
   "source": [
    "files"
   ]
  },
  {
   "cell_type": "code",
   "execution_count": 43,
   "metadata": {},
   "outputs": [],
   "source": [
    "from PyPDF2 import PdfWriter, PdfReader\n",
    "\n",
    "\n",
    "\n",
    "def crop_doc(doc_path, output_path):\n",
    "  reader = PdfReader(doc_path) \n",
    "  writer = PdfWriter()\n",
    "\n",
    "  for page in reader.pages:\n",
    "     page.cropbox.upper_left = (310,0)\n",
    "     page.cropbox.lower_right = (530,700) \n",
    "     writer.add_page(page) \n",
    "\n",
    "  with open(output_path, \"wb\") as fp:\n",
    "     writer.write(fp)\n",
    "   \n"
   ]
  },
  {
   "cell_type": "code",
   "execution_count": 50,
   "metadata": {},
   "outputs": [],
   "source": [
    "\n",
    "for file in files:\n",
    "    crop_doc(files[file], 'cropped/' + file)"
   ]
  },
  {
   "cell_type": "code",
   "execution_count": 64,
   "metadata": {},
   "outputs": [
    {
     "ename": "TypeError",
     "evalue": "'str' object cannot be interpreted as an integer",
     "output_type": "error",
     "traceback": [
      "\u001b[0;31m---------------------------------------------------------------------------\u001b[0m",
      "\u001b[0;31mTypeError\u001b[0m                                 Traceback (most recent call last)",
      "Cell \u001b[0;32mIn[64], line 1\u001b[0m\n\u001b[0;32m----> 1\u001b[0m pdf_file_obj \u001b[39m=\u001b[39m \u001b[39mopen\u001b[39;49m(\u001b[39m'\u001b[39;49m\u001b[39mcropped/\u001b[39;49m\u001b[39m'\u001b[39;49m, \u001b[39m'\u001b[39;49m\u001b[39m4.1.1.__Offences_and_penalties_in_general_Law_n___68_of__2018.pdf\u001b[39;49m\u001b[39m'\u001b[39;49m, \u001b[39m'\u001b[39;49m\u001b[39mrb\u001b[39;49m\u001b[39m'\u001b[39;49m)\n\u001b[1;32m      2\u001b[0m pdf_reader \u001b[39m=\u001b[39m PyPDF2\u001b[39m.\u001b[39mPdfReader(pdf_file_obj)\n\u001b[1;32m      3\u001b[0m pdf_reader\u001b[39m.\u001b[39mnumPages\n",
      "File \u001b[0;32m/opt/anaconda3/envs/law_farm/lib/python3.11/site-packages/IPython/core/interactiveshell.py:284\u001b[0m, in \u001b[0;36m_modified_open\u001b[0;34m(file, *args, **kwargs)\u001b[0m\n\u001b[1;32m    277\u001b[0m \u001b[39mif\u001b[39;00m file \u001b[39min\u001b[39;00m {\u001b[39m0\u001b[39m, \u001b[39m1\u001b[39m, \u001b[39m2\u001b[39m}:\n\u001b[1;32m    278\u001b[0m     \u001b[39mraise\u001b[39;00m \u001b[39mValueError\u001b[39;00m(\n\u001b[1;32m    279\u001b[0m         \u001b[39mf\u001b[39m\u001b[39m\"\u001b[39m\u001b[39mIPython won\u001b[39m\u001b[39m'\u001b[39m\u001b[39mt let you open fd=\u001b[39m\u001b[39m{\u001b[39;00mfile\u001b[39m}\u001b[39;00m\u001b[39m by default \u001b[39m\u001b[39m\"\u001b[39m\n\u001b[1;32m    280\u001b[0m         \u001b[39m\"\u001b[39m\u001b[39mas it is likely to crash IPython. If you know what you are doing, \u001b[39m\u001b[39m\"\u001b[39m\n\u001b[1;32m    281\u001b[0m         \u001b[39m\"\u001b[39m\u001b[39myou can use builtins\u001b[39m\u001b[39m'\u001b[39m\u001b[39m open.\u001b[39m\u001b[39m\"\u001b[39m\n\u001b[1;32m    282\u001b[0m     )\n\u001b[0;32m--> 284\u001b[0m \u001b[39mreturn\u001b[39;00m io_open(file, \u001b[39m*\u001b[39;49margs, \u001b[39m*\u001b[39;49m\u001b[39m*\u001b[39;49mkwargs)\n",
      "\u001b[0;31mTypeError\u001b[0m: 'str' object cannot be interpreted as an integer"
     ]
    }
   ],
   "source": [
    "pdf_file_obj = open('cropped/', '4.1.1.__Offences_and_penalties_in_general_Law_n___68_of__2018.pdf', 'rb')\n",
    "pdf_reader = PyPDF2.PdfReader(pdf_file_obj)\n",
    "pdf_reader.numPages\n",
    "page_obj = pdf_reader.getPage(0)\n",
    "page_obj.extractText()\n",
    "pdf_file_obj.close()\n",
    "text = page_obj.extractText()"
   ]
  },
  {
   "cell_type": "code",
   "execution_count": 61,
   "metadata": {},
   "outputs": [],
   "source": [
    "#convert pdf to text files\n",
    "import os\n",
    "import PyPDF2\n",
    "\n",
    "def pdf_to_text(root_folder, pdf_file):\n",
    "    pdf_file_obj = open(root_folder, pdf_file, 'rb')\n",
    "    pdf_reader = PyPDF2.PdfReader(pdf_file_obj)\n",
    "    pdf_reader.numPages\n",
    "    page_obj = pdf_reader.getPage(0)\n",
    "    page_obj.extractText()\n",
    "    pdf_file_obj.close()\n",
    "    text = page_obj.extractText()\n",
    "    with open('texts/' + pdf_file, \"w+\") as fp:\n",
    "        fp.write(text)\n",
    "\n",
    "\n",
    "    \n"
   ]
  },
  {
   "cell_type": "code",
   "execution_count": 63,
   "metadata": {},
   "outputs": [
    {
     "ename": "TypeError",
     "evalue": "'str' object cannot be interpreted as an integer",
     "output_type": "error",
     "traceback": [
      "\u001b[0;31m---------------------------------------------------------------------------\u001b[0m",
      "\u001b[0;31mTypeError\u001b[0m                                 Traceback (most recent call last)",
      "Cell \u001b[0;32mIn[63], line 1\u001b[0m\n\u001b[0;32m----> 1\u001b[0m \u001b[39mbin\u001b[39m \u001b[39m=\u001b[39m pdf_to_text(\u001b[39m'\u001b[39;49m\u001b[39mcropped\u001b[39;49m\u001b[39m'\u001b[39;49m,\u001b[39m'\u001b[39;49m\u001b[39m4.1.1.__Offences_and_penalties_in_general_Law_n___68_of__2018.pdf\u001b[39;49m\u001b[39m'\u001b[39;49m)\n",
      "Cell \u001b[0;32mIn[61], line 6\u001b[0m, in \u001b[0;36mpdf_to_text\u001b[0;34m(root_folder, pdf_file)\u001b[0m\n\u001b[1;32m      5\u001b[0m \u001b[39mdef\u001b[39;00m \u001b[39mpdf_to_text\u001b[39m(root_folder, pdf_file):\n\u001b[0;32m----> 6\u001b[0m     pdf_file_obj \u001b[39m=\u001b[39m \u001b[39mopen\u001b[39;49m(root_folder, pdf_file, \u001b[39m'\u001b[39;49m\u001b[39mrb\u001b[39;49m\u001b[39m'\u001b[39;49m)\n\u001b[1;32m      7\u001b[0m     pdf_reader \u001b[39m=\u001b[39m PyPDF2\u001b[39m.\u001b[39mPdfReader(pdf_file_obj)\n\u001b[1;32m      8\u001b[0m     pdf_reader\u001b[39m.\u001b[39mnumPages\n",
      "File \u001b[0;32m/opt/anaconda3/envs/law_farm/lib/python3.11/site-packages/IPython/core/interactiveshell.py:284\u001b[0m, in \u001b[0;36m_modified_open\u001b[0;34m(file, *args, **kwargs)\u001b[0m\n\u001b[1;32m    277\u001b[0m \u001b[39mif\u001b[39;00m file \u001b[39min\u001b[39;00m {\u001b[39m0\u001b[39m, \u001b[39m1\u001b[39m, \u001b[39m2\u001b[39m}:\n\u001b[1;32m    278\u001b[0m     \u001b[39mraise\u001b[39;00m \u001b[39mValueError\u001b[39;00m(\n\u001b[1;32m    279\u001b[0m         \u001b[39mf\u001b[39m\u001b[39m\"\u001b[39m\u001b[39mIPython won\u001b[39m\u001b[39m'\u001b[39m\u001b[39mt let you open fd=\u001b[39m\u001b[39m{\u001b[39;00mfile\u001b[39m}\u001b[39;00m\u001b[39m by default \u001b[39m\u001b[39m\"\u001b[39m\n\u001b[1;32m    280\u001b[0m         \u001b[39m\"\u001b[39m\u001b[39mas it is likely to crash IPython. If you know what you are doing, \u001b[39m\u001b[39m\"\u001b[39m\n\u001b[1;32m    281\u001b[0m         \u001b[39m\"\u001b[39m\u001b[39myou can use builtins\u001b[39m\u001b[39m'\u001b[39m\u001b[39m open.\u001b[39m\u001b[39m\"\u001b[39m\n\u001b[1;32m    282\u001b[0m     )\n\u001b[0;32m--> 284\u001b[0m \u001b[39mreturn\u001b[39;00m io_open(file, \u001b[39m*\u001b[39;49margs, \u001b[39m*\u001b[39;49m\u001b[39m*\u001b[39;49mkwargs)\n",
      "\u001b[0;31mTypeError\u001b[0m: 'str' object cannot be interpreted as an integer"
     ]
    }
   ],
   "source": [
    "bin = pdf_to_text('cropped','4.1.1.__Offences_and_penalties_in_general_Law_n___68_of__2018.pdf')"
   ]
  },
  {
   "cell_type": "code",
   "execution_count": 57,
   "metadata": {},
   "outputs": [],
   "source": [
    "#scout the cropped folder\n",
    "\n",
    "cropped_files = search_files('cropped', '.pdf')"
   ]
  },
  {
   "cell_type": "code",
   "execution_count": 58,
   "metadata": {},
   "outputs": [],
   "source": [
    "\n",
    "for file in cropped_files:\n",
    "    crop_doc(files[file], 'texts/' + file)"
   ]
  },
  {
   "cell_type": "code",
   "execution_count": null,
   "metadata": {},
   "outputs": [],
   "source": []
  }
 ],
 "metadata": {
  "kernelspec": {
   "display_name": "law_farm",
   "language": "python",
   "name": "python3"
  },
  "language_info": {
   "codemirror_mode": {
    "name": "ipython",
    "version": 3
   },
   "file_extension": ".py",
   "mimetype": "text/x-python",
   "name": "python",
   "nbconvert_exporter": "python",
   "pygments_lexer": "ipython3",
   "version": "3.11.3"
  },
  "orig_nbformat": 4
 },
 "nbformat": 4,
 "nbformat_minor": 2
}
